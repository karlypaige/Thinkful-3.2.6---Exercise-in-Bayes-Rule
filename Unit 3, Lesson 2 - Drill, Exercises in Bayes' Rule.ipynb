{
 "cells": [
  {
   "cell_type": "markdown",
   "metadata": {},
   "source": [
    "A diagnostic test has a 98% probability of giving a positive result when applied to a person suffering from Thripshaw's Disease, and 10% probability of giving a (false) positive when applied to a non-sufferer. It is estimated that 0.5 % of the population are sufferers. Suppose that the test is now administered to a person whose disease status is unknown. Calculate the probability that the test will:\n",
    "\n",
    "    Be positive  \n",
    "There are two conditions which yield a positive result: True positive and false positive.\n",
    "P+ = P(Positive test u Infected) = .98 * 0.005 = .0049\n",
    "P- = P(Positive test u not infected = .1 * .995 = .0995\n",
    "P(Positive test) = P+ + P- = .0049 + .0995 = .1044\n",
    "    \n",
    "    Correctly diagnose a sufferer of Thripshaw's\n",
    "P(infected|positive test) = P(positive|infected) * P(infected)/P(positive)\n",
    "P(infected|positive test) = 0.98 * 0.005/0.1044 = .047\n",
    "    \n",
    "    Correctly identify a non-sufferer of Thripshaw's\n",
    "P(non-sufferer|negative test) = P(negative|non-infected) * P(non-infected)/P(negative)\n",
    "P(non-sufferer|negative test) = 0.9 * .995/(1-.1044) = 0.999\n",
    "    \n",
    "    Misclassify the person\n",
    "P(negative|infected) u positive|non-infeceted) = (.02 * .005) + (.1 * .995) = .0996\n",
    "\n",
    "Were your intuitions on the mark, or way off?\n",
    "\n",
    "Just checked the answers.  I misunderstood the second and third questions to mean \"how correct is your diagnosis?\" rather than the simple true-positive/true-negative inquiry it actually was.\n"
   ]
  },
  {
   "cell_type": "code",
   "execution_count": null,
   "metadata": {},
   "outputs": [],
   "source": []
  }
 ],
 "metadata": {
  "kernelspec": {
   "display_name": "Python 3",
   "language": "python",
   "name": "python3"
  },
  "language_info": {
   "codemirror_mode": {
    "name": "ipython",
    "version": 3
   },
   "file_extension": ".py",
   "mimetype": "text/x-python",
   "name": "python",
   "nbconvert_exporter": "python",
   "pygments_lexer": "ipython3",
   "version": "3.6.5"
  }
 },
 "nbformat": 4,
 "nbformat_minor": 2
}
